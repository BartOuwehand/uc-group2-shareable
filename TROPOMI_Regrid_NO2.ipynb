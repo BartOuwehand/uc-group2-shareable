{
 "cells": [
  {
   "cell_type": "code",
   "execution_count": null,
   "id": "80c4236a",
   "metadata": {},
   "outputs": [],
   "source": [
    "import os\n",
    "import pandas as pd\n",
    "import numpy as np\n",
    "from glob import glob\n",
    "import matplotlib.pyplot as plt\n",
    "import harp\n",
    "import cartopy.crs as ccrs\n",
    "import time\n",
    "from datetime import timedelta\n",
    "import xarray\n",
    "from tqdm import tqdm\n",
    "\n",
    "home = '/Users/stijn/Documents/jaar 2/UC/urbancomputing_group2/'\n",
    "TROPOMI = '/data/TROPOMI/'\n",
    "# home = ''\n",
    "# TROPOMI = 'data/TROPOMI/'"
   ]
  },
  {
   "cell_type": "code",
   "execution_count": null,
   "id": "6ed9a968",
   "metadata": {},
   "outputs": [],
   "source": [
    "#The call to regrid and merge the selected files for given area of interest.\n",
    "\n",
    "coordinates = {'lon_min': 19.5, 'lon_max': 29.5, 'lat_min': 31.5, 'lat_max': 34.2}\n",
    "\n",
    "operations = \";\".join([\n",
    "    \n",
    "    \"latitude>\" + str(coordinates['lat_min']) + \";latitude<\" + str(coordinates['lat_max']),\n",
    "    \"longitude>\" + str(coordinates['lon_min']) + \";longitude<\" + str(coordinates['lon_max']),\n",
    "    \"cloud_fraction < 0.5\",\n",
    "    #\"surface_meridional_wind_velocity < 7\",\n",
    "    #\"surface_zonal_wind_velocity < 7\",\n",
    "    \"tropospheric_NO2_column_number_density_validity>50\",\n",
    "    \"keep(latitude_bounds,longitude_bounds,datetime_start,datetime_length,tropospheric_NO2_column_number_density,tropospheric_NO2_column_number_density_uncertainty,surface_zonal_wind_velocity,surface_meridional_wind_velocity)\",\n",
    "    \"derive(datetime_stop {time} [days since 2000-01-01])\",\n",
    "    \"derive(datetime_start [days since 2000-01-01])\",\n",
    "    \"exclude(datetime_length)\",\n",
    "    \"bin_spatial(62,31.5,0.045,225,19.5,0.045)\",# number of pixels in latitude, latitude min, latitude step, number of pixels in longitude, longitude min, longitude step\n",
    "    \"derive(tropospheric_NO2_column_number_density)\",\n",
    "    \"derive(latitude {latitude})\",\n",
    "    \"derive(longitude {longitude})\",\n",
    "    \"derive(surface_zonal_wind_velocity)\",\n",
    "    \"derive(surface_meridional_wind_velocity)\",\n",
    "])\n",
    "\n",
    "reduce_operations = \"squash(time, (latitude, longitude, latitude_bounds, longitude_bounds));bin()\" # squash time dimension "
   ]
  },
  {
   "cell_type": "code",
   "execution_count": null,
   "id": "85d34039",
   "metadata": {},
   "outputs": [],
   "source": [
    "# for low let's regrid them one by one?\n",
    "\n",
    "NO2_fp = home+TROPOMI\n",
    "NO2_fns = sorted(glob(NO2_fp+'*/*.nc'))\n",
    "\n",
    "\n",
    "if not os.path.exists(home+'/data/regridded_tropomi'): # create folder for regridded data\n",
    "    os.makedirs(home+'/data/regridded_tropomi')\n",
    "\n",
    "for filename in tqdm(NO2_fns):\n",
    "    try:\n",
    "        regridded = harp.import_product(filename, operations, reduce_operations=reduce_operations)\n",
    "    except harp.NoDataError:\n",
    "        print('No valid data for this file (in the given longitude, latitude range). Moving on to next file.')\n",
    "        continue\n",
    "    try:\n",
    "        # harp.export_product(regridded, home+f'/data/regridded_tropomi/{regridded.source_product[:-3]}_regrid.nc', file_format='netcdf')\n",
    "        harp.export_product(regridded, home+f'data/regridded_tropomi/{regridded.source_product[:-3]}_regrid.nc', file_format='netcdf')\n",
    "    except harp.CLibraryError:\n",
    "        print('File already exists and is in memory so cannot be rewritten. Moving on to next file.')\n",
    "        pass\n",
    "\n",
    "    # Plotting the regridded data\n",
    "    # xds = xarray.open_dataset(home+f'/data/regridded_tropomi/{regridded.source_product[:-3]}_regrid.nc', engine='netcdf4')\n",
    "    xds = xarray.open_dataset(home+f'data/regridded_tropomi/{regridded.source_product[:-3]}_regrid.nc', engine='netcdf4')\n",
    "'''    fig,ax = plt.subplots(1,1,figsize=(10, 5))\n",
    "    xds.tropospheric_NO2_column_number_density.plot(cmap='viridis', vmin=0,ax=ax)\n",
    "    time = str(xds.datetime_start.values[0])[:19]\n",
    "    ax.set_title('Tropospheric NO2 on ' + time,fontsize=20)\n",
    "    plt.tight_layout()\n",
    "    plt.savefig(f'figures/regrids/{time}.jpg')\n",
    "    plt.close()\n",
    "    xds.close()'''\n"
   ]
  }
 ],
 "metadata": {
  "kernelspec": {
   "display_name": "Python 3 (ipykernel)",
   "language": "python",
   "name": "python3"
  },
  "language_info": {
   "codemirror_mode": {
    "name": "ipython",
    "version": 3
   },
   "file_extension": ".py",
   "mimetype": "text/x-python",
   "name": "python",
   "nbconvert_exporter": "python",
   "pygments_lexer": "ipython3",
   "version": "3.11.5"
  }
 },
 "nbformat": 4,
 "nbformat_minor": 5
}
