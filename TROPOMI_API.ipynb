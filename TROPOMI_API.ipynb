{
 "cells": [
  {
   "cell_type": "code",
   "execution_count": null,
   "id": "dbd50c2c",
   "metadata": {},
   "outputs": [],
   "source": [
    "import os\n",
    "from sentinelsat import SentinelAPI\n",
    "import pandas as pd\n",
    "import datetime\n",
    "from datetime import timedelta\n",
    "import json\n",
    "import requests\n",
    "from datetime import date, timedelta\n",
    "\n",
    "home = '/Users/stijn/Documents/jaar 2/UC/urbancomputing_group2'\n",
    "TROPOMI = home + '/data/TROPOMI/'"
   ]
  },
  {
   "cell_type": "code",
   "execution_count": null,
   "id": "2b0f7e4c",
   "metadata": {},
   "outputs": [],
   "source": [
    "# get the access token\n",
    "\n",
    "def get_access_token(username: str, password: str) -> str:\n",
    "    data = {\n",
    "        \"client_id\": \"cdse-public\",\n",
    "        \"username\": username,\n",
    "        \"password\": password,\n",
    "        \"grant_type\": \"password\",\n",
    "        }\n",
    "    try:\n",
    "        r = requests.post(\"https://identity.dataspace.copernicus.eu/auth/realms/CDSE/protocol/openid-connect/token\",\n",
    "        data=data,\n",
    "        )\n",
    "        r.raise_for_status()\n",
    "    except Exception as e:\n",
    "        raise Exception(\n",
    "            f\"Access token creation failed. Reponse from the server was: {r.json()}\"\n",
    "            )\n",
    "    return r.json()[\"access_token\"]\n",
    "\n",
    "username = \"stijnvleugels@gmail.com\"\n",
    "password = \"agk!h7z9AK.zuGM\"      \n",
    "access_token = get_access_token(username, password)"
   ]
  },
  {
   "cell_type": "code",
   "execution_count": null,
   "id": "b64919f9",
   "metadata": {},
   "outputs": [],
   "source": [
    "# find files in the area of interest\n",
    "data_collection = \"SENTINEL-5P\"\n",
    "\n",
    "offset = 0.5 # increase size of area of interest \n",
    "lon_min = 19.5 - offset ; lat_min = 31.5 + offset ; lon_max = 29.5 - offset ; lat_max = 34.2 + offset\n",
    "\n",
    "aoi = f\"POLYGON(({lon_min - offset} {lat_min - offset},{lon_max + offset} {lat_min - offset},{lon_max + offset} {lat_max + offset},{lon_min - offset} {lat_max + offset},{lon_min - offset} {lat_min - offset}))'\"\n",
    "\n",
    "start_date = date.fromisoformat('2019-06-01')\n",
    "end_date = date.fromisoformat('2019-06-02')\n",
    "\n",
    "while end_date != date.fromisoformat('2019-07-01'): # we can only return 20 results(?) at a time so use this loop\n",
    "    # it is still missing some images e.g. on 2019-06-30, not sure what's going wrong.\n",
    "\n",
    "    # get IDs and filenames of L2__NO2____ images in the area of interest\n",
    "    json = requests.get(f\"https://catalogue.dataspace.copernicus.eu/odata/v1/Products?$filter=contains(Name,'NRTI_L2__NO2') and OData.CSC.Intersects(area=geography'SRID=4326;{aoi}) and ContentDate/Start gt {start_date}T00:00:00.000Z and ContentDate/Start lt {end_date}T00:00:00.000Z\").json()\n",
    "    values = pd.DataFrame.from_dict(json['value'])\n",
    "    ids = values['Id']\n",
    "    names = values['Name']\n",
    "\n",
    "    for i,id_im in enumerate(ids): # download the images\n",
    "        url = f\"https://zipper.dataspace.copernicus.eu/odata/v1/Products({id_im})/$value\"\n",
    "\n",
    "        name = names[i]\n",
    "        headers = {\"Authorization\": f\"Bearer {access_token}\"}\n",
    "\n",
    "        session = requests.Session()\n",
    "        session.headers.update(headers)\n",
    "        response = session.get(url, headers=headers, stream=True)\n",
    "\n",
    "        if response.headers['Content-Type'] == 'application/zip': # these contain the data\n",
    "            if response.headers['content-disposition'][30:41] == 'L2__NO2____':\n",
    "                with open(TROPOMI + f\"{name}.zip\", \"wb\") as file:\n",
    "                    for chunk in response.iter_content(chunk_size=8192):\n",
    "                        if chunk: \n",
    "                            file.write(chunk)\n",
    "\n",
    "    # move to next day\n",
    "    start_date += timedelta(days=1)\n",
    "    end_date = start_date + timedelta(days=1)"
   ]
  },
  {
   "cell_type": "code",
   "execution_count": null,
   "id": "a531fc1c",
   "metadata": {},
   "outputs": [],
   "source": [
    "# unzip all the files\n",
    "import zipfile\n",
    "for filename in os.listdir(TROPOMI):\n",
    "    if filename.endswith(\".zip\"):\n",
    "        path_to_zip_file = TROPOMI + filename\n",
    "        directory_to_extract_to = TROPOMI\n",
    "        with zipfile.ZipFile(path_to_zip_file, 'r') as zip_ref:\n",
    "            zip_ref.extractall(directory_to_extract_to)"
   ]
  },
  {
   "cell_type": "markdown",
   "id": "4bbb4cdd-1844-4f5a-98e4-4edb363a6772",
   "metadata": {},
   "source": [
    "# "
   ]
  }
 ],
 "metadata": {
  "kernelspec": {
   "display_name": "Python 3 (ipykernel)",
   "language": "python",
   "name": "python3"
  },
  "language_info": {
   "codemirror_mode": {
    "name": "ipython",
    "version": 3
   },
   "file_extension": ".py",
   "mimetype": "text/x-python",
   "name": "python",
   "nbconvert_exporter": "python",
   "pygments_lexer": "ipython3",
   "version": "3.11.5"
  }
 },
 "nbformat": 4,
 "nbformat_minor": 5
}
